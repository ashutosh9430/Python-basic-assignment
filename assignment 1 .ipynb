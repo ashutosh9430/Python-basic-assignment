{
 "cells": [
  {
   "cell_type": "code",
   "execution_count": 4,
   "id": "80123e83-5050-43c9-ad98-1e0dd8807b17",
   "metadata": {},
   "outputs": [
    {
     "name": "stdout",
     "output_type": "stream",
     "text": [
      "before swap x : 5 and y :10\n",
      "after swap x : 5 and y: 10\n"
     ]
    }
   ],
   "source": [
    "x = 5\n",
    "y = 10 \n",
    "def swap_variables(x,y) :\n",
    "    print (f\"before swap x : {x} and y :{y}\")\n",
    "    print (f\"after swap x : {x} and y: {y}\")\n",
    "swap_variables(x,y)"
   ]
  },
  {
   "cell_type": "code",
   "execution_count": 6,
   "id": "703ecc61-9fdc-4fde-9519-c7e96c9c9606",
   "metadata": {},
   "outputs": [
    {
     "name": "stdin",
     "output_type": "stream",
     "text": [
      "enter value of lenght 10\n",
      "enter value of width 12\n"
     ]
    },
    {
     "name": "stdout",
     "output_type": "stream",
     "text": [
      "the area of rectangle is : 120.0\n"
     ]
    }
   ],
   "source": [
    "length = float(input (\"enter value of lenght\"))\n",
    "width = float(input (\"enter value of width\"))\n",
    "area = length * width\n",
    "print(\"the area of rectangle is :\",area)"
   ]
  },
  {
   "cell_type": "code",
   "execution_count": 10,
   "id": "4946bf14-0d3f-4888-a490-4f5dcd4f2273",
   "metadata": {},
   "outputs": [
    {
     "name": "stdin",
     "output_type": "stream",
     "text": [
      "enter value of celcius : 20\n"
     ]
    },
    {
     "name": "stdout",
     "output_type": "stream",
     "text": [
      "20.0 celcius is equal to 68.00 farenheit\n"
     ]
    }
   ],
   "source": [
    "celcius_tempreture = float (input(\"enter value of celcius :\"))\n",
    "farenheit_tempreture = (celcius_tempreture*9/5) +32\n",
    "print(f\"{celcius_tempreture} celcius is equal to {farenheit_tempreture:.2f} farenheit\")"
   ]
  },
  {
   "cell_type": "code",
   "execution_count": 23,
   "id": "50a3fba6-6d6e-43ea-b1ff-0cd463af32fc",
   "metadata": {},
   "outputs": [
    {
     "name": "stdin",
     "output_type": "stream",
     "text": [
      "enter the string : ashutosh\n"
     ]
    },
    {
     "name": "stdout",
     "output_type": "stream",
     "text": [
      "the length of input string is : 8\n"
     ]
    }
   ],
   "source": [
    "input_string = input(\"enter the string :\")\n",
    "string_lenght = len(input_string)\n",
    "print(\"the length of input string is :\", string_lenght)"
   ]
  },
  {
   "cell_type": "code",
   "execution_count": 25,
   "id": "fce1280a-4c23-46ea-bc62-c61638fee69d",
   "metadata": {},
   "outputs": [
    {
     "name": "stdin",
     "output_type": "stream",
     "text": [
      "enter a sentece hello bacho kaise ho\n"
     ]
    },
    {
     "name": "stdout",
     "output_type": "stream",
     "text": [
      "number of vowels 8\n"
     ]
    }
   ],
   "source": [
    "sentence = input(\"enter a sentece\")\n",
    "vowel_count = 0\n",
    "for char in sentence :\n",
    "    char_lower = char.lower()\n",
    "    if char_lower in \"a,e,i,o,u\" :\n",
    "        vowel_count += 1\n",
    "print (\"number of vowels\",vowel_count)"
   ]
  },
  {
   "cell_type": "code",
   "execution_count": 3,
   "id": "b7567da5-79f9-49f1-a943-0b3ae3a54629",
   "metadata": {},
   "outputs": [
    {
     "name": "stdin",
     "output_type": "stream",
     "text": [
      "enter string : hello\n"
     ]
    },
    {
     "name": "stdout",
     "output_type": "stream",
     "text": [
      "reversed_string : olleh\n"
     ]
    }
   ],
   "source": [
    "input_string = input(\"enter string :\")\n",
    "reversed_string = input_string[::-1]\n",
    "print(\"reversed_string :\", reversed_string)"
   ]
  },
  {
   "cell_type": "code",
   "execution_count": 7,
   "id": "d207f260-fe63-4849-af6b-8776c8062f6b",
   "metadata": {},
   "outputs": [
    {
     "name": "stdin",
     "output_type": "stream",
     "text": [
      "enter string : pw skill lab\n"
     ]
    },
    {
     "name": "stdout",
     "output_type": "stream",
     "text": [
      "input string is not palindrome\n"
     ]
    }
   ],
   "source": [
    "input_string = input(\"enter string :\")\n",
    "cleaned_string = input_string.replace(\" \",\"\") .lower()\n",
    "reversed_string = cleaned_string[::-1]\n",
    "if cleaned_string == reversed_string :\n",
    "    print(\"input string is a palindrome\")\n",
    "else:\n",
    "    print(\"input string is not palindrome\")\n",
    "                            "
   ]
  },
  {
   "cell_type": "code",
   "execution_count": 10,
   "id": "0b262ae7-24f8-480a-8e28-988cf3ab1531",
   "metadata": {},
   "outputs": [
    {
     "name": "stdin",
     "output_type": "stream",
     "text": [
      "enter a string : ashu avail\n"
     ]
    },
    {
     "name": "stdout",
     "output_type": "stream",
     "text": [
      "  ashuavail\n"
     ]
    }
   ],
   "source": [
    "input_string = input(\"enter a string :\")\n",
    "modified_string = \"  \"\n",
    "for char in input_string:\n",
    "    if char!=\" \" :\n",
    "        modified_string += char\n",
    "print(modified_string)"
   ]
  },
  {
   "cell_type": "code",
   "execution_count": null,
   "id": "8db35533-8ad7-4e39-80cd-27c773f853ba",
   "metadata": {},
   "outputs": [],
   "source": []
  }
 ],
 "metadata": {
  "kernelspec": {
   "display_name": "Python 3 (ipykernel)",
   "language": "python",
   "name": "python3"
  },
  "language_info": {
   "codemirror_mode": {
    "name": "ipython",
    "version": 3
   },
   "file_extension": ".py",
   "mimetype": "text/x-python",
   "name": "python",
   "nbconvert_exporter": "python",
   "pygments_lexer": "ipython3",
   "version": "3.10.8"
  }
 },
 "nbformat": 4,
 "nbformat_minor": 5
}
